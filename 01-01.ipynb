{
 "cells": [
  {
   "cell_type": "code",
   "execution_count": 23,
   "metadata": {},
   "outputs": [
    {
     "name": "stdout",
     "output_type": "stream",
     "text": [
      "1\n",
      "3\n",
      "6\n",
      "10\n",
      "15\n",
      "21\n",
      "합계: 21\n"
     ]
    }
   ],
   "source": [
    "# n이 주어지면 1~n까지의 합을 출력하세요.\n",
    "# 방법1\n",
    "N = int(input())\n",
    "m = 0\n",
    "for n in range(1,N+1):\n",
    "    m += n\n",
    "    print(m)\n",
    "print('합계:',m)    "
   ]
  }
 ],
 "metadata": {
  "interpreter": {
   "hash": "1dcf4112e9d9dbfbee30c7e0f7b88f51348429db15499848de277de6c1aef27f"
  },
  "kernelspec": {
   "display_name": "Python 3.9.7 64-bit",
   "language": "python",
   "name": "python3"
  },
  "language_info": {
   "codemirror_mode": {
    "name": "ipython",
    "version": 3
   },
   "file_extension": ".py",
   "mimetype": "text/x-python",
   "name": "python",
   "nbconvert_exporter": "python",
   "pygments_lexer": "ipython3",
   "version": "3.9.7"
  },
  "orig_nbformat": 4
 },
 "nbformat": 4,
 "nbformat_minor": 2
}
